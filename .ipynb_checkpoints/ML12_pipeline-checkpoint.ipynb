{
 "cells": [
  {
   "cell_type": "code",
   "execution_count": null,
   "metadata": {},
   "outputs": [],
   "source": [
    "import pandas as pd\n",
    "\n",
    "\n",
    "iris_data = pd.read_csv(\"./data/iris2.csv\", encoding = 'utf-8')\n",
    "\n",
    "x =  iris_data.loc[:'Name']\n",
    "y =  iris_data.loc[:'SepalLength', 'Sepalwidth', 'PetalLength', 'PetalWidth']\n",
    "\n",
    "x_train, x_test, y_train, y_test = train_test_split(x, y, test_size=0.3, train_size = 0.7, suffle = True)\n",
    "\n",
    "from sklearn.pipeline import Pipeline\n",
    "from Sklearn.preprocessing import MinMaxScaler\n",
    "\n",
    "pipe = pipeline([('scaler', MinMaxScaler()), ('svm', SVC())])\n",
    "\n",
    "model.fit(x_train, y_train)\n",
    "\n",
    "print ('test score', model.score(x_test, x_test))\n"
   ]
  }
 ],
 "metadata": {
  "kernelspec": {
   "display_name": "Python 3",
   "language": "python",
   "name": "python3"
  },
  "language_info": {
   "codemirror_mode": {
    "name": "ipython",
    "version": 3
   },
   "file_extension": ".py",
   "mimetype": "text/x-python",
   "name": "python",
   "nbconvert_exporter": "python",
   "pygments_lexer": "ipython3",
   "version": "3.6.5"
  }
 },
 "nbformat": 4,
 "nbformat_minor": 4
}
